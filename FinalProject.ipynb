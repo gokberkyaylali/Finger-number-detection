{
 "cells": [
  {
   "cell_type": "code",
   "execution_count": 13,
   "metadata": {},
   "outputs": [],
   "source": [
    "#from supportFunctions import *\n",
    "import cPickle as pickle\n",
    "from __future__ import division\n",
    "import numpy as np\n",
    "from sklearn import tree\n",
    "#import seaborn as sn\n",
    "import pandas as pd \n",
    "\n",
    "import scipy.cluster.hierarchy as hcluster\n",
    "from sklearn.metrics import confusion_matrix,classification_report\n",
    "from sklearn.metrics import accuracy_score, precision_score, recall_score\n",
    "from sklearn.metrics import roc_curve, auc\n",
    "import matplotlib.pyplot as plt\n",
    "\n"
   ]
  },
  {
   "cell_type": "code",
   "execution_count": 14,
   "metadata": {
    "collapsed": true
   },
   "outputs": [],
   "source": [
    "class clsf_Performance(object):\n",
    "    \"\"\"The performance of a classifier can be evaluated in different manners.\n",
    "\n",
    "    Attributes:\n",
    "        y_hat: clf output\n",
    "        y_test: true values\n",
    "    \"\"\"\n",
    "\n",
    "    def __init__(self, y_hat, y_test):\n",
    "        \n",
    "        self.y_hat = y_hat\n",
    "        self.y_test = y_test\n",
    "\n",
    "    def print_confusion_matrix(self, is_normalized = True):\n",
    "        \"\"\"Plots the confusion matrix.\"\"\"\n",
    "        if is_normalized == True : \n",
    "            normalized_confusion_matrix = confusion_matrix(self.y_test, self.y_hat)/confusion_matrix(self.y_test, self.y_hat).sum()\n",
    "            df_confusion_normalized = pd.DataFrame(normalized_confusion_matrix, index = [\"Classifier-0\", \"Classifier-1\"], columns = [\"True-0\", \"True-1\"])\n",
    "\n",
    "            plt.figure(figsize = (9,6))\n",
    "            sn.set(font_scale=2)\n",
    "            sn.heatmap(df_confusion_normalized, annot = True, fmt='.4g')\n",
    "            plt.show()\n",
    "        else:\n",
    "            df_confusion = pd.DataFrame(confusion_matrix(self.y_test, self.y_hat), index = [\"Classifier-0\", \"Classifier-1\"], columns = [\"True-0\", \"True-1\"])\n",
    "            plt.figure(figsize = (9,6))\n",
    "            sn.set(font_scale=2)\n",
    "            sn.heatmap(df_confusion, annot = True, fmt='.4g')\n",
    "            plt.show()\n",
    "    \n",
    "    \n",
    "    def Accuracy(self, normalize = True):\n",
    "        return(accuracy_score(self.y_test, self.y_hat, normalize = normalize))\n",
    "        \n",
    "    def Recall(self):\n",
    "        return(recall_score(self.y_test, self.y_hat))\n",
    "    \n",
    "    def Precision(self):\n",
    "        return(precision_score(self.y_test, self.y_hat))\n",
    "        \n",
    "    def print_ROC(self, label = None):\n",
    "        fpr, tpr, _ = roc_curve(self.y_test, self.y_hat )\n",
    "        plt.plot(fpr, tpr, label = label )\n",
    "        plt.xlabel('False positive rate')\n",
    "        plt.ylabel('True positive rate')\n",
    "        plt.title('ROC curve')\n",
    "        plt.legend(loc='best')\n",
    "        plt.show()\n",
    "  \n",
    "    def AUC(self):\n",
    "        fpr, tpr, _ = roc_curve(self.y_test, self.y_hat)\n",
    "        return(auc(fpr, tpr))\n",
    "    "
   ]
  },
  {
   "cell_type": "code",
   "execution_count": 15,
   "metadata": {
    "collapsed": true
   },
   "outputs": [],
   "source": [
    "def plots_estimates_and_actuals(testingExampleIndices,yHat, testY, data):\n",
    "    \"\"\"\n",
    "    For given yHat(estimated), testY(actual), and test examples,\n",
    "    it visualizes these in subplots.\n",
    "    \n",
    "    yHat and testY should be vectors \n",
    "    \n",
    "    \"\"\"\n",
    "    fig = plt.figure(0, (8, 6))\n",
    "    Y_hat = Reshape_to_yHatMatrix(testingExamples, yHat)\n",
    "    Y_test = Reshape_to_yHatMatrix(testingExamples, testY)\n",
    "    for i in range(len(testingExampleIndices)):\n",
    "        \n",
    "        fig.add_subplot(1,len(testingExampleIndices),i+1)\n",
    "        imageDict = data[testingExampleIndices[i]]\n",
    "        #im = makeGrayScale(imageDict)\n",
    "        im = imageDict['croppedImage']\n",
    "        im2 = im.copy()\n",
    "\n",
    "        #Paint with matches:\n",
    "        im[Y_test[i]==1] = [90]\n",
    "        im2[Y_hat[i]==1] = 0\n",
    "        \n",
    "        \n",
    "        \n",
    "        plt.imshow(im2, interpolation = 'none')\n",
    "        plt.imshow(im, interpolation = 'none', alpha = 0.3)\n",
    "    plt.show()"
   ]
  },
  {
   "cell_type": "code",
   "execution_count": 16,
   "metadata": {
    "collapsed": true
   },
   "outputs": [],
   "source": [
    "def plot_confusion_matrix(testY, yHat, is_normalized = True):\n",
    "    if is_normalized == True : \n",
    "        normalized_confusion_matrix = confusion_matrix(testY, yHat)/confusion_matrix(testY, yHat).sum()\n",
    "        df_confusion_normalized = pd.DataFrame(normalized_confusion_matrix, index = [\"Classifier-0\", \"Classifier-1\"], columns = [\"True-0\", \"True-1\"])\n",
    "\n",
    "        plt.figure(figsize = (9,6))\n",
    "        sn.set(font_scale=2)\n",
    "        sn.heatmap(df_confusion_normalized, annot = True, fmt='.4g')\n",
    "        plt.show()\n",
    "    else:\n",
    "        df_confusion = pd.DataFrame(confusion_matrix(testY, yHat), index = [\"Classifier-0\", \"Classifier-1\"], columns = [\"True-0\", \"True-1\"])\n",
    "        plt.figure(figsize = (9,6))\n",
    "        sn.set(font_scale=2)\n",
    "        sn.heatmap(df_confusion, annot = True, fmt='.4g')\n",
    "        plt.show()\n",
    "        "
   ]
  },
  {
   "cell_type": "code",
   "execution_count": 17,
   "metadata": {
    "collapsed": true
   },
   "outputs": [],
   "source": [
    "def extractFeatures(imageDict, dist = 5):\n",
    "    n = imageDict['numPointsInBox']\n",
    "    y = np.zeros(n)\n",
    "    \n",
    "    v1,v2,h1,h2 = imageDict['boxEdges']\n",
    "    \n",
    "    img = imageDict['image1bit']\n",
    "    featuresList = []\n",
    "    \n",
    "    fingerSet = imageDict['allFingerPoints']\n",
    "\n",
    "    c = 0 \n",
    "    for i in range(h1,h2):\n",
    "        for j in range(v1,v2):\n",
    "            x_matrix  = img[i-dist-1:i+dist , j-dist-1: j+dist]\n",
    "            xVec = x_matrix.ravel()\n",
    "            featuresList.append(xVec)\n",
    "            \n",
    "            if max(np.sum([i , j] == fingerSet, axis = 1 )) == 2:\n",
    "                y[c] = 1\n",
    "            \n",
    "            c = c + 1\n",
    "\n",
    "    X = np.vstack((featuresList))\n",
    "    return(X,y)\n",
    "    "
   ]
  },
  {
   "cell_type": "code",
   "execution_count": 18,
   "metadata": {
    "collapsed": true
   },
   "outputs": [],
   "source": [
    "def extractExamplesFromList(imageList, dist = 5):\n",
    "    allFeaturesList = []\n",
    "    allTargetList = []\n",
    "\n",
    "    for i, imageDict in enumerate(imageList):\n",
    "        features, target = extractFeatures(imageDict, dist = dist)\n",
    "        allFeaturesList.append(features)\n",
    "        allTargetList.append(target)\n",
    "\n",
    "    x = np.vstack((allFeaturesList))\n",
    "    y = np.hstack((allTargetList))\n",
    "    \n",
    "    return x, y"
   ]
  },
  {
   "cell_type": "code",
   "execution_count": 19,
   "metadata": {
    "collapsed": true
   },
   "outputs": [],
   "source": [
    "def Reshape_to_yHatMatrix(testingExamples, yHat):\n",
    "    number_of_images = len(testingExamples)\n",
    "    \n",
    "    image_sizes = []\n",
    "    result = []\n",
    "    c = 0 \n",
    "    for i in range(number_of_images):\n",
    "        dummy_idx = (testingExamples[i]['boxHeight'],testingExamples[i]['boxWidth'])\n",
    "        image_sizes.append(dummy_idx)\n",
    "        \n",
    "        test_im = yHat[c:(c + dummy_idx[0]*dummy_idx[1])] \n",
    "        c = c + (dummy_idx[0] * dummy_idx[1])\n",
    "        \n",
    "        test_im_matrix = test_im.reshape((dummy_idx[0], dummy_idx[1]))\n",
    "        result.append(test_im_matrix)\n",
    "    \n",
    "    return(result)"
   ]
  },
  {
   "cell_type": "code",
   "execution_count": 20,
   "metadata": {
    "collapsed": true
   },
   "outputs": [],
   "source": [
    "def remove_small_clusters(clusters, min_finger_pixel):\n",
    "    unique = set(clusters)\n",
    "    for c in unique:\n",
    "        if sum(clusters == c) < min_finger_pixel:\n",
    "            clusters = np.delete(clusters, np.where(clusters == c))\n",
    "    return(clusters)"
   ]
  },
  {
   "cell_type": "code",
   "execution_count": 109,
   "metadata": {
    "collapsed": true
   },
   "outputs": [],
   "source": [
    "def Y_hat_list_to_numFingers_list(Y_hat):\n",
    "    n_foto = len(Y_hat)\n",
    "    num_finger_list = []\n",
    "    for i in range(n_foto):\n",
    "        X_i = np.where(Y_hat[i] == 1)[0]\n",
    "        X_j = np.where(Y_hat[i] == 1)[1]\n",
    "\n",
    "        data_cl  = np.column_stack((X_i, X_j))\n",
    "        \n",
    "        thresh = 1\n",
    "        clusters = hcluster.fclusterdata(data_cl, thresh, criterion=\"distance\")\n",
    "        #removing small clusters (caused by false positives)\n",
    "        new_clusters = remove_small_clusters(clusters,15)\n",
    "        num_finger_list.append(len(set(new_clusters)))\n",
    "        \n",
    "    return(num_finger_list)"
   ]
  },
  {
   "cell_type": "code",
   "execution_count": 21,
   "metadata": {},
   "outputs": [],
   "source": [
    "#sn.set_style(\"white\")"
   ]
  },
  {
   "cell_type": "markdown",
   "metadata": {},
   "source": [
    "# Loading the Data and Extracting Features"
   ]
  },
  {
   "cell_type": "code",
   "execution_count": 22,
   "metadata": {
    "collapsed": true
   },
   "outputs": [],
   "source": [
    "pickleFileName = 'fingerDataSet' + '.pickle'\n",
    "pickleFile = open(pickleFileName, 'rb')\n",
    "data = pickle.load(pickleFile)\n",
    "pickleFile.close()"
   ]
  },
  {
   "cell_type": "code",
   "execution_count": 23,
   "metadata": {},
   "outputs": [
    {
     "data": {
      "image/png": "[encoded data removed]",
      "text/plain": [
       "<matplotlib.figure.Figure at 0x120952510>"
      ]
     },
     "metadata": {},
     "output_type": "display_data"
    }
   ],
   "source": [
    "plt.imshow(data[51]['image'])\n",
    "plt.show()"
   ]
  },
  {
   "cell_type": "code",
   "execution_count": 94,
   "metadata": {},
   "outputs": [],
   "source": [
    "#Constructing Traning Data Set:\n",
    "trainingExampleIndices = np.arange(0,45)\n",
    "trainingExamples = [data[index] for index in trainingExampleIndices]\n",
    "trainX, trainY = extractExamplesFromList(trainingExamples, dist = 4)\n",
    "\n",
    "#Constructing Test Data Set:\n",
    "testingExampleIndices = [46, 47, 48, 49, 50, 51, 52, 53]\n",
    "testingExamples = [data[index] for index in testingExampleIndices]\n",
    "testX, testY = extractExamplesFromList(testingExamples, dist = 4)\n"
   ]
  },
  {
   "cell_type": "code",
   "execution_count": 115,
   "metadata": {},
   "outputs": [
    {
     "name": "stdout",
     "output_type": "stream",
     "text": [
      "True number of fingers in the test set [3, 3, 3, 3, 3, 3, 3, 3]\n"
     ]
    }
   ],
   "source": [
    "testing_y_fingernumbers = [data[index]['numFingers'] for index in testingExampleIndices]\n",
    "print( 'True number of fingers in the test set ' + str(testing_y_fingernumbers) )\n"
   ]
  },
  {
   "cell_type": "markdown",
   "metadata": {},
   "source": [
    "# Decision Tree "
   ]
  },
  {
   "cell_type": "code",
   "execution_count": 116,
   "metadata": {
    "collapsed": true
   },
   "outputs": [],
   "source": [
    "clf = tree.DecisionTreeClassifier(criterion = 'entropy', max_depth = 5)\n",
    "clf = clf.fit(trainX, trainY)\n",
    "yHat = clf.predict(testX)"
   ]
  },
  {
   "cell_type": "markdown",
   "metadata": {},
   "source": [
    "### Performance Evaluation "
   ]
  },
  {
   "cell_type": "code",
   "execution_count": 117,
   "metadata": {},
   "outputs": [
    {
     "name": "stdout",
     "output_type": "stream",
     "text": [
      "Accuracy: 0.961051654205\n",
      "Recall: 0.631891891892\n",
      "Precision: 0.909727626459\n",
      "AUC: 0.812829844297\n"
     ]
    }
   ],
   "source": [
    "DT_perf = clsf_Performance(y_hat=yHat, y_test=testY)\n",
    "\n",
    "print ('Accuracy: '+ str(DT_perf.Accuracy()))\n",
    "print ('Recall: '+ str(DT_perf.Recall()))\n",
    "print ('Precision: '+ str(DT_perf.Precision()))\n",
    "print ('AUC: '+ str(DT_perf.AUC()))\n",
    "\n",
    "\n"
   ]
  },
  {
   "cell_type": "code",
   "execution_count": 118,
   "metadata": {},
   "outputs": [
    {
     "name": "stdout",
     "output_type": "stream",
     "text": [
      "Predicted number of fingers in the test set :\n",
      "[3, 3, 3, 3, 3, 3, 3, 3]\n",
      "True number of fingers in the test set : \n",
      "[3, 3, 3, 3, 3, 3, 3, 3]\n"
     ]
    }
   ],
   "source": [
    "Y_hat = Reshape_to_yHatMatrix(testingExamples, yHat)\n",
    "\n",
    "print 'Predicted number of fingers in the test set :' \n",
    "print Y_hat_list_to_numFingers_list(Y_hat)\n",
    "print 'True number of fingers in the test set : '\n",
    "print testing_y_fingernumbers\n",
    "\n"
   ]
  },
  {
   "cell_type": "markdown",
   "metadata": {},
   "source": [
    "### Plotting Fitted images "
   ]
  },
  {
   "cell_type": "code",
   "execution_count": 119,
   "metadata": {},
   "outputs": [
    {
     "data": {
      "image/png": "[encoded data removed]",
      "text/plain": [
       "<matplotlib.figure.Figure at 0x1218b1250>"
      ]
     },
     "metadata": {},
     "output_type": "display_data"
    }
   ],
   "source": [
    "fig = plt.figure(0, (8, 4))\n",
    "plt.subplot(1,3,1)\n",
    "plt.imshow(Y_hat[0])\n",
    "plt.subplot(1,3,2)\n",
    "plt.imshow(Y_hat[1])\n",
    "plt.subplot(1,3,3)\n",
    "plt.imshow(Y_hat[2])\n",
    "plt.show()"
   ]
  },
  {
   "cell_type": "code",
   "execution_count": 120,
   "metadata": {},
   "outputs": [
    {
     "data": {
      "image/png": "[encoded data removed]",
      "text/plain": [
       "<matplotlib.figure.Figure at 0x120f2f550>"
      ]
     },
     "metadata": {},
     "output_type": "display_data"
    }
   ],
   "source": [
    "plots_estimates_and_actuals(testingExampleIndices,yHat, testY, data) # Duzelmesi Lazim "
   ]
  },
  {
   "cell_type": "code",
   "execution_count": null,
   "metadata": {},
   "outputs": [],
   "source": []
  },
  {
   "cell_type": "code",
   "execution_count": null,
   "metadata": {
    "collapsed": true
   },
   "outputs": [],
   "source": []
  },
  {
   "cell_type": "markdown",
   "metadata": {
    "collapsed": true
   },
   "source": [
    "# Logistic Regression"
   ]
  },
  {
   "cell_type": "code",
   "execution_count": 121,
   "metadata": {
    "collapsed": true
   },
   "outputs": [],
   "source": [
    "from sklearn.linear_model import LogisticRegression"
   ]
  },
  {
   "cell_type": "code",
   "execution_count": 122,
   "metadata": {},
   "outputs": [],
   "source": [
    "classifier = LogisticRegression(random_state=0)\n",
    "classifier.fit (trainX, trainY)\n",
    "y_hat_logi = classifier.predict(testX)"
   ]
  },
  {
   "cell_type": "markdown",
   "metadata": {},
   "source": [
    "## Performance Evaluation"
   ]
  },
  {
   "cell_type": "code",
   "execution_count": 123,
   "metadata": {},
   "outputs": [
    {
     "name": "stdout",
     "output_type": "stream",
     "text": [
      "Accuracy: 0.962224502761\n",
      "Recall: 0.622702702703\n",
      "Precision: 0.938875305623\n",
      "AUC: 0.809336630457\n"
     ]
    }
   ],
   "source": [
    "Logi_perf = clsf_Performance(y_hat= y_hat_logi, y_test=testY)\n",
    "\n",
    "print ('Accuracy: '+ str(Logi_perf.Accuracy()))\n",
    "print ('Recall: '+ str(Logi_perf.Recall()))\n",
    "print ('Precision: '+ str(Logi_perf.Precision()))\n",
    "print ('AUC: '+ str(Logi_perf.AUC()))\n",
    "\n",
    "\n"
   ]
  },
  {
   "cell_type": "code",
   "execution_count": 124,
   "metadata": {},
   "outputs": [
    {
     "name": "stdout",
     "output_type": "stream",
     "text": [
      "Predicted number of fingers in the test set :\n",
      "[3, 3, 3, 3, 3, 3, 3, 3]\n",
      "True number of fingers in the test set : \n",
      "[3, 3, 3, 3, 3, 3, 3, 3]\n"
     ]
    }
   ],
   "source": [
    "Y_hat = Reshape_to_yHatMatrix(testingExamples, y_hat_logi)\n",
    "\n",
    "print 'Predicted number of fingers in the test set :' \n",
    "print Y_hat_list_to_numFingers_list(Y_hat)\n",
    "print 'True number of fingers in the test set : '\n",
    "print testing_y_fingernumbers\n",
    "\n",
    "\n"
   ]
  },
  {
   "cell_type": "markdown",
   "metadata": {},
   "source": [
    "## Plotting the fitted Images"
   ]
  },
  {
   "cell_type": "code",
   "execution_count": 125,
   "metadata": {},
   "outputs": [
    {
     "data": {
      "image/png": "[encoded data removed]",
      "text/plain": [
       "<matplotlib.figure.Figure at 0x1218ffa10>"
      ]
     },
     "metadata": {},
     "output_type": "display_data"
    }
   ],
   "source": [
    "Y_hat = Reshape_to_yHatMatrix(testingExamples, y_hat_logi)\n",
    "\n",
    "fig = plt.figure(0, (8, 4))\n",
    "plt.subplot(1,3,1)\n",
    "plt.imshow(Y_hat[0])\n",
    "plt.subplot(1,3,2)\n",
    "plt.imshow(Y_hat[1])\n",
    "plt.subplot(1,3,3)\n",
    "plt.imshow(Y_hat[2])\n",
    "plt.show()"
   ]
  },
  {
   "cell_type": "code",
   "execution_count": null,
   "metadata": {
    "collapsed": true
   },
   "outputs": [],
   "source": []
  },
  {
   "cell_type": "code",
   "execution_count": null,
   "metadata": {
    "collapsed": true
   },
   "outputs": [],
   "source": []
  },
  {
   "cell_type": "code",
   "execution_count": null,
   "metadata": {
    "collapsed": true
   },
   "outputs": [],
   "source": []
  },
  {
   "cell_type": "markdown",
   "metadata": {
    "collapsed": true
   },
   "source": [
    "# Random Forest "
   ]
  },
  {
   "cell_type": "code",
   "execution_count": 127,
   "metadata": {
    "collapsed": true
   },
   "outputs": [],
   "source": [
    "from sklearn.ensemble import RandomForestClassifier"
   ]
  },
  {
   "cell_type": "code",
   "execution_count": 128,
   "metadata": {
    "collapsed": true
   },
   "outputs": [],
   "source": [
    "classifier_RF = RandomForestClassifier(n_estimators=10, criterion='entropy', random_state= 0)\n",
    "classifier_RF.fit(trainX, trainY)\n",
    "y_hat_RF = classifier_RF.predict(testX)"
   ]
  },
  {
   "cell_type": "markdown",
   "metadata": {},
   "source": [
    "## Performance Evaluation "
   ]
  },
  {
   "cell_type": "code",
   "execution_count": 129,
   "metadata": {},
   "outputs": [
    {
     "name": "stdout",
     "output_type": "stream",
     "text": [
      "Accuracy: 0.981478766554\n",
      "Recall: 0.856756756757\n",
      "Precision: 0.932901706886\n",
      "AUC: 0.92531600262\n"
     ]
    }
   ],
   "source": [
    "RF_perf = clsf_Performance(y_hat= y_hat_RF, y_test=testY)\n",
    "\n",
    "print ('Accuracy: '+ str(RF_perf.Accuracy()))\n",
    "print ('Recall: '+ str(RF_perf.Recall()))\n",
    "print ('Precision: '+ str(RF_perf.Precision()))\n",
    "print ('AUC: '+ str(RF_perf.AUC()))\n",
    "\n"
   ]
  },
  {
   "cell_type": "code",
   "execution_count": 130,
   "metadata": {},
   "outputs": [
    {
     "name": "stdout",
     "output_type": "stream",
     "text": [
      "Predicted number of fingers in the test set :\n",
      "[3, 3, 3, 3, 3, 3, 3, 3]\n",
      "True number of fingers in the test set : \n",
      "[3, 3, 3, 3, 3, 3, 3, 3]\n"
     ]
    }
   ],
   "source": [
    "Y_hat = Reshape_to_yHatMatrix(testingExamples, y_hat_RF)\n",
    "\n",
    "print 'Predicted number of fingers in the test set :' \n",
    "print Y_hat_list_to_numFingers_list(Y_hat)\n",
    "print 'True number of fingers in the test set : '\n",
    "print testing_y_fingernumbers\n",
    "\n"
   ]
  },
  {
   "cell_type": "markdown",
   "metadata": {},
   "source": [
    "## Plotting the Fitted Images"
   ]
  },
  {
   "cell_type": "code",
   "execution_count": 131,
   "metadata": {},
   "outputs": [
    {
     "data": {
      "image/png": "[encoded data removed]",
      "text/plain": [
       "<matplotlib.figure.Figure at 0x121bcaad0>"
      ]
     },
     "metadata": {},
     "output_type": "display_data"
    }
   ],
   "source": [
    "Y_hat = Reshape_to_yHatMatrix(testingExamples, y_hat_RF)\n",
    "\n",
    "fig = plt.figure(0, (8, 4))\n",
    "plt.subplot(1,3,1)\n",
    "plt.imshow(Y_hat[0])\n",
    "plt.subplot(1,3,2)\n",
    "plt.imshow(Y_hat[1])\n",
    "plt.subplot(1,3,3)\n",
    "plt.imshow(Y_hat[2])\n",
    "plt.show()"
   ]
  },
  {
   "cell_type": "code",
   "execution_count": null,
   "metadata": {
    "collapsed": true
   },
   "outputs": [],
   "source": []
  },
  {
   "cell_type": "code",
   "execution_count": null,
   "metadata": {
    "collapsed": true
   },
   "outputs": [],
   "source": []
  },
  {
   "cell_type": "code",
   "execution_count": null,
   "metadata": {
    "collapsed": true
   },
   "outputs": [],
   "source": []
  },
  {
   "cell_type": "markdown",
   "metadata": {
    "collapsed": true
   },
   "source": [
    "# MLP"
   ]
  },
  {
   "cell_type": "code",
   "execution_count": 132,
   "metadata": {},
   "outputs": [],
   "source": [
    "from sklearn.neural_network import MLPClassifier\n",
    "\n",
    "mlp = MLPClassifier(hidden_layer_sizes=(54, 27, 3))\n",
    "mlp.fit(trainX , trainY)\n",
    "y_hat_ANN = mlp.predict(testX)"
   ]
  },
  {
   "cell_type": "markdown",
   "metadata": {},
   "source": [
    "## Performance Evaluation"
   ]
  },
  {
   "cell_type": "code",
   "execution_count": 133,
   "metadata": {},
   "outputs": [
    {
     "name": "stdout",
     "output_type": "stream",
     "text": [
      "Accuracy: 0.982456140351\n",
      "Recall: 0.885405405405\n",
      "Precision: 0.917647058824\n",
      "AUC: 0.93875384975\n"
     ]
    }
   ],
   "source": [
    "MLP_perf = clsf_Performance(y_hat= y_hat_ANN, y_test=testY)\n",
    "\n",
    "print ('Accuracy: '+ str(MLP_perf.Accuracy()))\n",
    "print ('Recall: '+ str(MLP_perf.Recall()))\n",
    "print ('Precision: '+ str(MLP_perf.Precision()))\n",
    "print ('AUC: '+ str(MLP_perf.AUC()))\n",
    "\n"
   ]
  },
  {
   "cell_type": "code",
   "execution_count": 134,
   "metadata": {},
   "outputs": [
    {
     "name": "stdout",
     "output_type": "stream",
     "text": [
      "Predicted number of fingers in the test set :\n",
      "[3, 3, 3, 3, 3, 3, 3, 3]\n",
      "True number of fingers in the test set : \n",
      "[3, 3, 3, 3, 3, 3, 3, 3]\n"
     ]
    }
   ],
   "source": [
    "Y_hat = Reshape_to_yHatMatrix(testingExamples, y_hat_ANN)\n",
    "\n",
    "print 'Predicted number of fingers in the test set :' \n",
    "print Y_hat_list_to_numFingers_list(Y_hat)\n",
    "print 'True number of fingers in the test set : '\n",
    "print testing_y_fingernumbers\n",
    "\n",
    "\n"
   ]
  },
  {
   "cell_type": "code",
   "execution_count": null,
   "metadata": {
    "collapsed": true
   },
   "outputs": [],
   "source": []
  },
  {
   "cell_type": "code",
   "execution_count": null,
   "metadata": {
    "collapsed": true
   },
   "outputs": [],
   "source": []
  },
  {
   "cell_type": "code",
   "execution_count": null,
   "metadata": {
    "collapsed": true
   },
   "outputs": [],
   "source": []
  },
  {
   "cell_type": "code",
   "execution_count": 99,
   "metadata": {},
   "outputs": [],
   "source": []
  },
  {
   "cell_type": "code",
   "execution_count": null,
   "metadata": {
    "collapsed": true
   },
   "outputs": [],
   "source": []
  },
  {
   "cell_type": "code",
   "execution_count": null,
   "metadata": {
    "collapsed": true
   },
   "outputs": [],
   "source": []
  },
  {
   "cell_type": "code",
   "execution_count": null,
   "metadata": {
    "collapsed": true
   },
   "outputs": [],
   "source": []
  },
  {
   "cell_type": "code",
   "execution_count": null,
   "metadata": {
    "collapsed": true
   },
   "outputs": [],
   "source": []
  },
  {
   "cell_type": "code",
   "execution_count": null,
   "metadata": {
    "collapsed": true
   },
   "outputs": [],
   "source": []
  },
  {
   "cell_type": "code",
   "execution_count": null,
   "metadata": {
    "collapsed": true
   },
   "outputs": [],
   "source": []
  },
  {
   "cell_type": "code",
   "execution_count": null,
   "metadata": {
    "collapsed": true
   },
   "outputs": [],
   "source": []
  },
  {
   "cell_type": "code",
   "execution_count": null,
   "metadata": {
    "collapsed": true
   },
   "outputs": [],
   "source": []
  },
  {
   "cell_type": "code",
   "execution_count": null,
   "metadata": {
    "collapsed": true
   },
   "outputs": [],
   "source": []
  },
  {
   "cell_type": "code",
   "execution_count": null,
   "metadata": {
    "collapsed": true
   },
   "outputs": [],
   "source": []
  },
  {
   "cell_type": "code",
   "execution_count": null,
   "metadata": {
    "collapsed": true
   },
   "outputs": [],
   "source": []
  },
  {
   "cell_type": "code",
   "execution_count": null,
   "metadata": {
    "collapsed": true
   },
   "outputs": [],
   "source": []
  },
  {
   "cell_type": "code",
   "execution_count": null,
   "metadata": {
    "collapsed": true
   },
   "outputs": [],
   "source": []
  },
  {
   "cell_type": "code",
   "execution_count": null,
   "metadata": {
    "collapsed": true
   },
   "outputs": [],
   "source": []
  },
  {
   "cell_type": "code",
   "execution_count": null,
   "metadata": {
    "collapsed": true
   },
   "outputs": [],
   "source": []
  },
  {
   "cell_type": "code",
   "execution_count": null,
   "metadata": {
    "collapsed": true
   },
   "outputs": [],
   "source": []
  },
  {
   "cell_type": "code",
   "execution_count": null,
   "metadata": {
    "collapsed": true
   },
   "outputs": [],
   "source": []
  },
  {
   "cell_type": "code",
   "execution_count": null,
   "metadata": {
    "collapsed": true
   },
   "outputs": [],
   "source": []
  },
  {
   "cell_type": "code",
   "execution_count": null,
   "metadata": {
    "collapsed": true
   },
   "outputs": [],
   "source": []
  },
  {
   "cell_type": "code",
   "execution_count": null,
   "metadata": {
    "collapsed": true
   },
   "outputs": [],
   "source": []
  },
  {
   "cell_type": "code",
   "execution_count": null,
   "metadata": {
    "collapsed": true
   },
   "outputs": [],
   "source": []
  },
  {
   "cell_type": "code",
   "execution_count": null,
   "metadata": {
    "collapsed": true
   },
   "outputs": [],
   "source": [
    "X_i = np.where(Y_hat[1] == 1)[0]\n",
    "X_j = np.where(Y_hat[1] == 1)[1]\n",
    "\n",
    "data_cl  = np.column_stack((X_i, X_j))\n",
    "data_cl.shape"
   ]
  },
  {
   "cell_type": "code",
   "execution_count": 72,
   "metadata": {},
   "outputs": [
    {
     "data": {
      "image/png": "[encoded data removed]",
      "text/plain": [
       "<matplotlib.figure.Figure at 0x1219f5350>"
      ]
     },
     "metadata": {},
     "output_type": "display_data"
    }
   ],
   "source": [
    "# clustering\n",
    "thresh = 1.5\n",
    "clusters = hcluster.fclusterdata(data_cl, thresh, criterion=\"distance\")\n",
    "#removing small clusters (caused by false positives)\n",
    "new_clusters = remove_small_clusters(clusters,15)\n",
    "\n",
    "# plotting\n",
    "plt.scatter(*np.transpose(data_cl), c=clusters)\n",
    "plt.axis(\"equal\")\n",
    "title = \"threshold: %f, number of fingers: %d\" % (thresh, len(set(new_clusters)))\n",
    "plt.title(title)\n",
    "plt.show()"
   ]
  },
  {
   "cell_type": "code",
   "execution_count": 73,
   "metadata": {},
   "outputs": [
    {
     "data": {
      "image/png": "[encoded data removed]",
      "text/plain": [
       "<matplotlib.figure.Figure at 0x1218bc7d0>"
      ]
     },
     "metadata": {},
     "output_type": "display_data"
    }
   ],
   "source": [
    "plt.scatter(np.array(data_cl)[:,1], np.array(data_cl)[:,0] , c=clusters)\n",
    "plt.axis(\"equal\")\n",
    "title = \"threshold: %f, number of fingers: %d\" % (thresh, len(set(new_clusters)))\n",
    "plt.title(title)\n",
    "plt.show()\n",
    "\n"
   ]
  },
  {
   "cell_type": "code",
   "execution_count": null,
   "metadata": {
    "collapsed": true
   },
   "outputs": [],
   "source": []
  }
 ],
 "metadata": {
  "kernelspec": {
   "display_name": "Python 2",
   "language": "python",
   "name": "python2"
  },
  "language_info": {
   "codemirror_mode": {
    "name": "ipython",
    "version": 2
   },
   "file_extension": ".py",
   "mimetype": "text/x-python",
   "name": "python",
   "nbconvert_exporter": "python",
   "pygments_lexer": "ipython2",
   "version": "2.7.14"
  }
 },
 "nbformat": 4,
 "nbformat_minor": 2
}
