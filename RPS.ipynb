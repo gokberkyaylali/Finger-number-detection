{
 "cells": [
  {
   "cell_type": "code",
   "execution_count": 1,
   "metadata": {},
   "outputs": [],
   "source": [
    "import matplotlib.pyplot as plt\n",
    "import random\n",
    "from __future__ import division\n",
    "from sklearn.cluster import KMeans\n",
    "import numpy as np\n",
    "from mpl_toolkits.mplot3d import Axes3D\n",
    "from PIL import Image\n",
    "from collections import defaultdict\n",
    "import operator"
   ]
  },
  {
   "cell_type": "code",
   "execution_count": 2,
   "metadata": {},
   "outputs": [],
   "source": [
    "def updateSet(past,rock,paper,scissors):\n",
    "    temp=0\n",
    "    for i in range(0,3):\n",
    "        if(past[i][1]==1):\n",
    "            temp=maxparam/(i+1)\n",
    "            if(past[i][0]=='R'):\n",
    "                rock=rock+temp\n",
    "            elif(past[i][0]=='P'):\n",
    "                paper=paper+temp\n",
    "            elif(past[i][0]=='S'):\n",
    "                scissors=scissors+temp\n",
    "        elif(past[i][1]==0):\n",
    "            temp=midparam/(i+1)\n",
    "            if(past[i][0]=='R'):\n",
    "                rock=rock+temp\n",
    "            elif(past[i][0]=='P'):\n",
    "                paper=paper+temp\n",
    "            elif(past[i][0]=='S'):\n",
    "                scissors=scissors+temp\n",
    "        elif(past[i][1]==-1):\n",
    "            temp=minparam/(i+1)\n",
    "            if(past[i][0]=='R'):\n",
    "                rock=rock+temp\n",
    "            elif(past[i][0]=='P'):\n",
    "                paper=paper+temp\n",
    "            elif(past[i][0]=='S'):\n",
    "                scissors=scissors+temp\n",
    "                \n",
    "    ratio=1000/(rock+paper+scissors)\n",
    "    rock=rock*ratio\n",
    "    paper=paper*ratio\n",
    "    scissors=scissors*ratio\n",
    "    \n",
    "    sett=[]\n",
    "    rock=round(rock)\n",
    "    paper=round(paper)\n",
    "    scissors=round(scissors)\n",
    "    for j in range(rock):\n",
    "        sett.append('R')\n",
    "    for j in range(paper):\n",
    "        sett.append('P')\n",
    "    for j in range(scissors):\n",
    "        sett.append('S')\n",
    "        \n",
    "    return sett,rock,paper,scissors"
   ]
  },
  {
   "cell_type": "code",
   "execution_count": 40,
   "metadata": {},
   "outputs": [],
   "source": [
    "def invertSet(sett):\n",
    "    beat = {'R':'P', 'P':'S' ,'S':'R'}\n",
    "    for i in range(len(sett)):\n",
    "        sett[i]=beat[sett[i]]\n",
    "    return sett"
   ]
  },
  {
   "cell_type": "code",
   "execution_count": 4,
   "metadata": {},
   "outputs": [],
   "source": [
    "def pastUpdate(inp,outp,past):\n",
    "    tempuser=[None,None]\n",
    "    tempuser[0]=inp\n",
    "    if(outp==beat[inp]): #win condition\n",
    "        tempuser[1]=1\n",
    "    elif(inp==beat[outp]): #lose condition\n",
    "        tempuser[1]=-1\n",
    "    else:                                #draw condition\n",
    "        tempuser[1]=0\n",
    "        \n",
    "    for i in range(0,3):\n",
    "        past[3-i]=past[2-i]\n",
    "    past[0]=tempuser\n",
    "    \n",
    "    return past"
   ]
  },
  {
   "cell_type": "code",
   "execution_count": 54,
   "metadata": {},
   "outputs": [],
   "source": [
    "def patternRec(hist,sett):\n",
    "    beat = {'R':'P', 'P':'S' ,'S':'R'}\n",
    "    opphist=oppHist(hist)\n",
    "    for length in range(min(8, len(hist)-2), 0, -2):\n",
    "        search = hist[-length:]\n",
    "        idx = hist.rfind(search,  0, -2)\n",
    "        if (idx != -1):\n",
    "            my = hist[idx+length].upper()\n",
    "            opp = hist[idx+length+1]\n",
    "            outp1 = beat[opp]\n",
    "            break\n",
    "    else:\n",
    "        outp1=None\n",
    "    for length in range(min(6, len(opphist)), 2, -1):\n",
    "        search = opphist[-length:]\n",
    "        idx = opphist.rfind(search,  0, -1)\n",
    "        if (idx != -1):\n",
    "            opp = opphist[idx+length]\n",
    "            outp2 = beat[opp]\n",
    "            break\n",
    "    else:\n",
    "        outp2=None\n",
    "    outp3=random.choice(sett)\n",
    "    \n",
    "    outp=voting(outp1,outp2,outp3)\n",
    "    print(outp1,outp2,outp3)\n",
    "    return outp"
   ]
  },
  {
   "cell_type": "code",
   "execution_count": 6,
   "metadata": {},
   "outputs": [],
   "source": [
    "def voting(outp1,outp2,outp3):\n",
    "    if(outp1==None):\n",
    "        if(outp2==None):\n",
    "            outp=outp3\n",
    "        else:\n",
    "            outp=random.choice([outp2,outp3])\n",
    "            \n",
    "    elif(outp2==None):\n",
    "        if(outp1==None):\n",
    "            outp=outp3\n",
    "        else:\n",
    "            outp=random.choice([outp1,outp3])\n",
    "    else:\n",
    "        if(outp1!=outp2):\n",
    "            if(outp3==outp1):\n",
    "                outp=outp1\n",
    "            elif(outp3==outp2):\n",
    "                outp=outp2\n",
    "            else:\n",
    "                outp=random.choice([outp1,outp2])\n",
    "        elif(outp1==outp2):\n",
    "            outp=outp1\n",
    "            \n",
    "    return outp"
   ]
  },
  {
   "cell_type": "code",
   "execution_count": 7,
   "metadata": {},
   "outputs": [],
   "source": [
    "def oppHist(hist):\n",
    "    opphist=\"\"\n",
    "    for i in hist:\n",
    "        if i.istitle():\n",
    "            opphist+=i\n",
    "    return opphist"
   ]
  },
  {
   "cell_type": "code",
   "execution_count": 53,
   "metadata": {},
   "outputs": [],
   "source": [
    "def counters(inp,outp,win,lose,draw):\n",
    "    if(outp==beat[inp]):          #win condition\n",
    "        lose=lose+1\n",
    "    elif(inp==beat[outp]):        #lose condition\n",
    "        win=win+1\n",
    "    else:                         #draw condition\n",
    "        draw=draw+1\n",
    "    return win,lose,draw"
   ]
  },
  {
   "cell_type": "code",
   "execution_count": 52,
   "metadata": {},
   "outputs": [],
   "source": [
    "def show(inp,outp):\n",
    "    if(outp==beat[inp]):          #win condition\n",
    "        print(\"computer won\")\n",
    "        print(inp,outp)\n",
    "    elif(inp==beat[outp]):        #lose condition\n",
    "        print(\"user won\")\n",
    "        print(inp,outp)\n",
    "    else:                         #draw condition\n",
    "        print(\"draw\")\n",
    "        print(inp,outp)\n"
   ]
  },
  {
   "cell_type": "code",
   "execution_count": 51,
   "metadata": {},
   "outputs": [],
   "source": [
    "average=1000/3\n",
    "maxparam=300\n",
    "midparam=150\n",
    "minparam=100\n",
    "rock=average\n",
    "paper=average\n",
    "scissors=average\n",
    "beat = {'R':'P', 'P':'S' ,'S':'R'}\n",
    "sett=[]\n",
    "rock=round(rock)\n",
    "paper=round(paper)\n",
    "scissors=round(scissors)\n",
    "for j in range(rock):\n",
    "    sett.append('R')\n",
    "for j in range(paper):\n",
    "    sett.append('P')\n",
    "for j in range(scissors):\n",
    "    sett.append('S')"
   ]
  },
  {
   "cell_type": "markdown",
   "metadata": {},
   "source": [
    "# Main Part"
   ]
  },
  {
   "cell_type": "code",
   "execution_count": 60,
   "metadata": {},
   "outputs": [
    {
     "name": "stdout",
     "output_type": "stream",
     "text": [
      "select RPSPRPSPR\n",
      "None None S\n",
      "None None P\n",
      "None None P\n",
      "None None S\n",
      "None None S\n",
      "S None S\n",
      "P None S\n",
      "S S S\n",
      "P P S\n"
     ]
    }
   ],
   "source": [
    "past = [[None,None],[None,None],[None,None],[None,None]]\n",
    "inp=\"\"\n",
    "win=0\n",
    "lose=0\n",
    "draw=0\n",
    "beat = {'R':'P', 'P':'S' ,'S':'R'}\n",
    "hist = \"\" \n",
    "i=0\n",
    "test=input(\"select \")\n",
    "while(i<len(test)):\n",
    "\n",
    "    inp = test[i]\n",
    "    \n",
    "    if(inp!='R' and inp!='P' and inp!='S'):\n",
    "        print(\"error!\")\n",
    "        break\n",
    "    else:\n",
    "        outp = patternRec(hist,sett)\n",
    "        hist += outp.lower() + inp\n",
    "#        show(inp,outp)\n",
    "        past=pastUpdate(inp,outp,past)\n",
    "        win,lose,draw=counters(inp,outp,win,lose,draw)\n",
    "        usersett,rock,paper,scissors=updateSet(past,rock,paper,scissors)\n",
    "        sett=invertSet(usersett)\n",
    "    i+=1"
   ]
  },
  {
   "cell_type": "code",
   "execution_count": 61,
   "metadata": {},
   "outputs": [
    {
     "data": {
      "text/plain": [
       "(4, 4, 1)"
      ]
     },
     "execution_count": 61,
     "metadata": {},
     "output_type": "execute_result"
    }
   ],
   "source": [
    "win,lose,draw"
   ]
  },
  {
   "cell_type": "code",
   "execution_count": null,
   "metadata": {},
   "outputs": [],
   "source": []
  },
  {
   "cell_type": "code",
   "execution_count": null,
   "metadata": {},
   "outputs": [],
   "source": []
  },
  {
   "cell_type": "code",
   "execution_count": null,
   "metadata": {},
   "outputs": [],
   "source": []
  }
 ],
 "metadata": {
  "kernelspec": {
   "display_name": "Python 3",
   "language": "python",
   "name": "python3"
  },
  "language_info": {
   "codemirror_mode": {
    "name": "ipython",
    "version": 3
   },
   "file_extension": ".py",
   "mimetype": "text/x-python",
   "name": "python",
   "nbconvert_exporter": "python",
   "pygments_lexer": "ipython3",
   "version": "3.6.4"
  }
 },
 "nbformat": 4,
 "nbformat_minor": 2
}
