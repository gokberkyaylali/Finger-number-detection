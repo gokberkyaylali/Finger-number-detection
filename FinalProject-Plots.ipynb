{
 "cells": [
  {
   "cell_type": "code",
   "execution_count": 78,
   "metadata": {
    "collapsed": true
   },
   "outputs": [],
   "source": [
    "from supportFunctions import *\n",
    "import cPickle as pickle\n",
    "from __future__ import division\n",
    "import numpy as np\n",
    "import matplotlib.pyplot as plt\n",
    "from sklearn import tree\n",
    "\n"
   ]
  },
  {
   "cell_type": "code",
   "execution_count": 79,
   "metadata": {
    "collapsed": true
   },
   "outputs": [],
   "source": [
    "def extractFeatures(imageDict, dist = 4):\n",
    "    n = imageDict['numPointsInBox']\n",
    "    y = np.zeros(n)\n",
    "    \n",
    "    v1,v2,h1,h2 = imageDict['boxEdges']\n",
    "    \n",
    "    img = imageDict['image1bit']\n",
    "    featuresList = []\n",
    "    \n",
    "    fingerSet = imageDict['allFingerPoints']\n",
    "\n",
    "    c = 0 \n",
    "    for i in range(h1,h2):\n",
    "        for j in range(v1,v2):\n",
    "            x_matrix  = img[i-dist-1:i+dist , j-dist-1: j+dist]\n",
    "            xVec = x_matrix.ravel()\n",
    "            featuresList.append(xVec)\n",
    "            \n",
    "            if max(np.sum([i , j] == fingerSet, axis = 1 )) == 2:\n",
    "                y[c] = 1\n",
    "            \n",
    "            c = c + 1\n",
    "\n",
    "    X = np.vstack((featuresList))\n",
    "    return(X,y)\n",
    "    "
   ]
  },
  {
   "cell_type": "code",
   "execution_count": 80,
   "metadata": {
    "collapsed": true
   },
   "outputs": [],
   "source": [
    "def extractExamplesFromList(imageList, dist = 4):\n",
    "    allFeaturesList = []\n",
    "    allTargetList = []\n",
    "\n",
    "    for i, imageDict in enumerate(imageList):\n",
    "        features, target = extractFeatures(imageDict, dist = dist)\n",
    "        allFeaturesList.append(features)\n",
    "        allTargetList.append(target)\n",
    "\n",
    "    x = np.vstack((allFeaturesList))\n",
    "    y = np.hstack((allTargetList))\n",
    "    \n",
    "    return x, y"
   ]
  },
  {
   "cell_type": "code",
   "execution_count": 81,
   "metadata": {
    "collapsed": true
   },
   "outputs": [],
   "source": [
    "def Reshape_to_yHatMatrix(testingExamples, yHat):\n",
    "    number_of_images = len(testingExamples)\n",
    "    \n",
    "    image_sizes = []\n",
    "    result = []\n",
    "    c = 0 \n",
    "    for i in range(number_of_images):\n",
    "        dummy_idx = (testingExamples[i]['boxHeight'],testingExamples[i]['boxWidth'])\n",
    "        image_sizes.append(dummy_idx)\n",
    "        \n",
    "        test_im = yHat[c:(c + dummy_idx[0]*dummy_idx[1])] \n",
    "        c = c + (dummy_idx[0] * dummy_idx[1])\n",
    "        \n",
    "        test_im_matrix = test_im.reshape((dummy_idx[0], dummy_idx[1]))\n",
    "        result.append(test_im_matrix)\n",
    "    \n",
    "    return(result)"
   ]
  },
  {
   "cell_type": "code",
   "execution_count": 82,
   "metadata": {
    "collapsed": true
   },
   "outputs": [],
   "source": [
    "pickleFileName = 'fingerDataSet' + '.pickle'\n",
    "pickleFile = open(pickleFileName, 'rb')\n",
    "data = pickle.load(pickleFile)\n",
    "pickleFile.close()"
   ]
  },
  {
   "cell_type": "code",
   "execution_count": 83,
   "metadata": {
    "collapsed": true
   },
   "outputs": [],
   "source": [
    "#Constructing Traning Data Set:\n",
    "trainingExampleIndices = np.arange(0,39)\n",
    "trainingExamples = [data[index] for index in trainingExampleIndices]\n",
    "trainX, trainY = extractExamplesFromList(trainingExamples, dist = 4)\n",
    "\n",
    "#Constructing Test Data Set:\n",
    "testingExampleIndices = [40, 41, 42, 43]\n",
    "testingExamples = [data[index] for index in testingExampleIndices]\n",
    "testX, testY = extractExamplesFromList(testingExamples, dist = 4)\n"
   ]
  },
  {
   "cell_type": "code",
   "execution_count": 84,
   "metadata": {
    "collapsed": true
   },
   "outputs": [],
   "source": [
    "clf = tree.DecisionTreeClassifier(criterion = 'entropy', max_depth = 3)\n",
    "clf = clf.fit(trainX, trainY)\n",
    "yHat = clf.predict(testX)"
   ]
  },
  {
   "cell_type": "code",
   "execution_count": 92,
   "metadata": {
    "collapsed": true
   },
   "outputs": [],
   "source": [
    "#Turn into a function:\n",
    "\n",
    "def plots_estimates_and_actuals(testingExampleIndices,yHat, testY):\n",
    "    \"\"\"\n",
    "    For given yHat(estimated), testY(actual), and test examples,\n",
    "    it visualizes these in subplots.\n",
    "    \"\"\"\n",
    "    fig = plt.figure(0, (8, 6))\n",
    "    Y_hat = Reshape_to_yHatMatrix(testingExamples, yHat)\n",
    "    Y_test = Reshape_to_yHatMatrix(testingExamples, testY)\n",
    "    for i in range(len(testingExampleIndices)):\n",
    "        \n",
    "        fig.add_subplot(1,len(testingExampleIndices),i+1)\n",
    "        imageDict = data[testingExampleIndices[i]]\n",
    "        im = makeGrayScale(imageDict)\n",
    "        im2 = im.copy()\n",
    "        \n",
    "        #Paint with matches:\n",
    "        im[:,:,0][Y_test[i]==1] = 1\n",
    "        im[:,:,1][Y_test[i]==1] = 0\n",
    "        im[:,:,2][Y_test[i]==1] = 0\n",
    "\n",
    "        im2[:,:,0][Y_hat[i]==1] = 0\n",
    "        im2[:,:,1][Y_hat[i]==1] = 0\n",
    "        im2[:,:,2][Y_hat[i]==1] = 1\n",
    "        \n",
    "        plt.imshow(im2, interpolation = 'none')\n",
    "        plt.imshow(im, interpolation = 'none', alpha = 0.3)\n",
    "    plt.show()"
   ]
  },
  {
   "cell_type": "code",
   "execution_count": 93,
   "metadata": {},
   "outputs": [
    {
     "data": {
      "image/png": "[encoded data removed]",
      "text/plain": [
       "<matplotlib.figure.Figure at 0x10001940>"
      ]
     },
     "metadata": {},
     "output_type": "display_data"
    }
   ],
   "source": [
    "plots_estimates_and_actuals(testingExampleIndices,yHat, testY)"
   ]
  },
  {
   "cell_type": "code",
   "execution_count": 94,
   "metadata": {
    "collapsed": true
   },
   "outputs": [],
   "source": [
    "Y_hat = Reshape_to_yHatMatrix(testingExamples, yHat)\n",
    "Y_test = Reshape_to_yHatMatrix(testingExamples, testY)\n",
    "def plots_estimates_and_actuals2(testingExampleIndices,  Y_test, Y_hat):\n",
    "    fig = plt.figure(0, (8, 6))\n",
    "    for i in range(len(testingExampleIndices)):\n",
    "        \n",
    "        fig.add_subplot(1,len(testingExampleIndices),i+1)\n",
    "        \n",
    "        plt.imshow(Y_test[i])\n",
    "        plt.imshow(Y_hat[i], alpha = 0.4)\n",
    "    plt.show()"
   ]
  },
  {
   "cell_type": "code",
   "execution_count": 96,
   "metadata": {},
   "outputs": [
    {
     "data": {
      "image/png": "[encoded data removed]",
      "text/plain": [
       "<matplotlib.figure.Figure at 0x1169bd30>"
      ]
     },
     "metadata": {},
     "output_type": "display_data"
    }
   ],
   "source": [
    "plots_estimates_and_actuals2(testingExampleIndices, Y_test, Y_hat)"
   ]
  },
  {
   "cell_type": "code",
   "execution_count": null,
   "metadata": {
    "collapsed": true
   },
   "outputs": [],
   "source": []
  },
  {
   "cell_type": "code",
   "execution_count": null,
   "metadata": {
    "collapsed": true
   },
   "outputs": [],
   "source": []
  }
 ],
 "metadata": {
  "kernelspec": {
   "display_name": "Python 2",
   "language": "python",
   "name": "python2"
  },
  "language_info": {
   "codemirror_mode": {
    "name": "ipython",
    "version": 2
   },
   "file_extension": ".py",
   "mimetype": "text/x-python",
   "name": "python",
   "nbconvert_exporter": "python",
   "pygments_lexer": "ipython2",
   "version": "2.7.14"
  }
 },
 "nbformat": 4,
 "nbformat_minor": 2
}
